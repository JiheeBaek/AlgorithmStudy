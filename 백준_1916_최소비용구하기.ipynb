{
 "cells": [
  {
   "cell_type": "code",
   "execution_count": null,
   "metadata": {},
   "outputs": [],
   "source": [
    "'''\n",
    "예제 입력\n",
    "5\n",
    "8\n",
    "1 2 2\n",
    "1 3 3\n",
    "1 4 1\n",
    "1 5 10\n",
    "2 4 2\n",
    "3 4 1\n",
    "3 5 1\n",
    "4 5 3\n",
    "1 5\n",
    "\n",
    "\n",
    "index      graph (index 번호 노드와 연결된 노드 번호, 간선 비용)\n",
    "  0       = [ [],\n",
    "  1           [[2, 2], [3, 3], [4, 1], [5, 1]],\n",
    "  2           [[4, 2]],\n",
    "  3           [[4, 1], [5, 1]],\n",
    "  4           [[5, 3]],\n",
    "  5           [] ]\n",
    "  \n",
    "  \n",
    "         0    1    2    3    4    5\n",
    "dist = [inf, inf, inf, inf, inf, inf]\n",
    "'''    "
   ]
  },
  {
   "cell_type": "code",
   "execution_count": null,
   "metadata": {},
   "outputs": [],
   "source": [
    "from heapq import heappush, heappop\n",
    "\n",
    "N=int(input())\n",
    "M=int(input())\n",
    "\n",
    "graph = [[] for _ in range(N + 1)]\n",
    "dist = [float('inf')]*(N + 1) #경로가 짧은 정점을 우선으로 길을 찾기 때문에 최대한 큰 값으로 초기화(INF)\n",
    "for i in range(M):\n",
    "    src, dst, weight = list(map(int, input().split()))\n",
    "    graph[src].append([dst, weight])\n",
    "start, end = list(map(int, input().split()))\n",
    "\n",
    "def dijkstra(start):\n",
    "    dist[start] = 0    #시작 노드는 거리가 0\n",
    "    heap = []    #힙:우선순위 큐\n",
    "    heappush(heap, [0, start]) #시작 노드 힙에 push하고 시작\n",
    "    \n",
    "    while heap:\n",
    "        d, node = heappop(heap)\n",
    "        if dist[node] < d: #dist가 d보다 작으면 연산하지 않는다.\n",
    "            continue\n",
    "            \n",
    "        #dist가 d보다 크거나 같으면 연산한다.\n",
    "        ##################연산###############\n",
    "        for near_node, weight in graph[node]: \n",
    "            near_d = d + weight    #시작점부터 node까지의 최단 거리 + node와 near_node의 가중치\n",
    "            if dist[near_node] > near_d:            #기존의 dist[near_node]보다 작아지면 \n",
    "                dist[near_node] = near_d            #dist[i]를 update\n",
    "                heappush(heap, [near_d, near_node]) #힙에 넣는다\n",
    "        ####################################\n",
    "                \n",
    "dijkstra(start)\n",
    "print(dist[end])"
   ]
  }
 ],
 "metadata": {
  "kernelspec": {
   "display_name": "Python 3",
   "language": "python",
   "name": "python3"
  },
  "language_info": {
   "codemirror_mode": {
    "name": "ipython",
    "version": 3
   },
   "file_extension": ".py",
   "mimetype": "text/x-python",
   "name": "python",
   "nbconvert_exporter": "python",
   "pygments_lexer": "ipython3",
   "version": "3.7.6"
  }
 },
 "nbformat": 4,
 "nbformat_minor": 4
}
