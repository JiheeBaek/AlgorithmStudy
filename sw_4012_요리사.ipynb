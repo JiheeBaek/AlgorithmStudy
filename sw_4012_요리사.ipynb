{
 "cells": [
  {
   "cell_type": "code",
   "execution_count": null,
   "metadata": {},
   "outputs": [],
   "source": [
    "from itertools import combinations\n",
    "\n",
    "T=int(input())\n",
    "for _ in range(T):\n",
    "    N=int(input())\n",
    "    matrix=[]\n",
    "    res=[]\n",
    "    for _ in range(N):\n",
    "        matrix.append(list(map(int, input().split(' '))))\n",
    "    food=[i for i in range(1, N+1)]\n",
    "    combi=list(combinations(food, N//2))\n",
    "    for i in range(len(combi)//2):\n",
    "        a=combi[i]\n",
    "        b=tuple(set(food)-set(a))\n",
    "        del combi[combi.index(b)]\n",
    "        a_sum=0\n",
    "        b_sum=0\n",
    "        for x in a:\n",
    "            for y in a:\n",
    "                a_sum+=matrix[x-1][y-1]\n",
    "        for x in b:\n",
    "            for y in b:\n",
    "                b_sum+=matrix[x-1][y-1]\n",
    "        res.append(abs(a_sum-b_sum))\n",
    "    print(min(res))"
   ]
  }
 ],
 "metadata": {
  "kernelspec": {
   "display_name": "Python 3",
   "language": "python",
   "name": "python3"
  },
  "language_info": {
   "codemirror_mode": {
    "name": "ipython",
    "version": 3
   },
   "file_extension": ".py",
   "mimetype": "text/x-python",
   "name": "python",
   "nbconvert_exporter": "python",
   "pygments_lexer": "ipython3",
   "version": "3.7.6"
  }
 },
 "nbformat": 4,
 "nbformat_minor": 4
}
