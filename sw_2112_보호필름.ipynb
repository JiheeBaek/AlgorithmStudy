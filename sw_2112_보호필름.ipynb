{
 "cells": [
  {
   "cell_type": "code",
   "execution_count": null,
   "metadata": {},
   "outputs": [],
   "source": [
    "'''\n",
    "예제 입력 7, 8, 9 non-pass\n",
    "'''"
   ]
  },
  {
   "cell_type": "code",
   "execution_count": null,
   "metadata": {},
   "outputs": [],
   "source": [
    "def check_group(): #K개 이상의 0/1이 같은 행에서 연달아 았는 경우의 index 찾기\n",
    "    index_stack=[]\n",
    "    for i in range(W):\n",
    "        count=1\n",
    "        pre=matrix[0][i]\n",
    "        index_stack.append((0, i))\n",
    "        for j in range(1, D):\n",
    "            if matrix[j][i]==pre:\n",
    "                count+=1\n",
    "                index_stack.append((j, i))\n",
    "            else:\n",
    "                if count<K:\n",
    "                    for _ in range(count):\n",
    "                        index_stack.pop()\n",
    "                count=1\n",
    "                pre=matrix[j][i]\n",
    "                index_stack.append((j, i))\n",
    "        if count<K:\n",
    "                for _ in range(count):\n",
    "                    index_stack.pop()\n",
    "    return index_stack"
   ]
  },
  {
   "cell_type": "code",
   "execution_count": null,
   "metadata": {},
   "outputs": [],
   "source": [
    "def make_group(index_stack): #check_group으로 부터 받아온 index로 group에 속해있으면 True, 속해있지 않으면 False\n",
    "    grouped=[[False]*W for _ in range(D)]\n",
    "    for index in index_stack:\n",
    "        x, y=index\n",
    "        grouped[x][y]=True\n",
    "    return grouped"
   ]
  },
  {
   "cell_type": "code",
   "execution_count": null,
   "metadata": {},
   "outputs": [],
   "source": [
    "def get_pass_col_list(grouped): #pass가능한, 즉 group에 속한 col이 어디인지 True, False list 반환\n",
    "    pass_col=[False]*W\n",
    "    for i in range(W):\n",
    "        for j in range(D):\n",
    "            if grouped[j][i]==True:\n",
    "                pass_col[i]=True\n",
    "                break\n",
    "    return pass_col"
   ]
  },
  {
   "cell_type": "code",
   "execution_count": null,
   "metadata": {},
   "outputs": [],
   "source": [
    "def get_possible_list(grouped): #이미 group에 속한 값들에 최소한의 영향을 주도록 계산\n",
    "    possible_change_to=[[] for _ in range(D)]\n",
    "    for i in range(D):\n",
    "        zero=0\n",
    "        one=0\n",
    "        for j in range(W):\n",
    "            if grouped[i][j]==True:\n",
    "                if matrix[i][j]==0:\n",
    "                    zero+=1\n",
    "                else:\n",
    "                    one+=1\n",
    "        if zero>one:\n",
    "            possible_change_to[i]=[0]\n",
    "        elif zero<one:\n",
    "            possible_change_to[i]=[1]\n",
    "        else:\n",
    "            possible_change_to[i]=[0, 1]\n",
    "    return possible_change_to"
   ]
  },
  {
   "cell_type": "code",
   "execution_count": null,
   "metadata": {},
   "outputs": [],
   "source": [
    "def change_or_not(pre_pass_col, pass_col): #기존에 group이 아니였던 col중 약품처리를 하면서 group으로 묶이는 col이 있는지 확인\n",
    "    for i in range(len(pre_pass_col)):\n",
    "        if pre_pass_col[i]==False:\n",
    "            if pass_col[i]==True:\n",
    "                return True\n",
    "    return False"
   ]
  },
  {
   "cell_type": "code",
   "execution_count": null,
   "metadata": {},
   "outputs": [],
   "source": [
    "def sol():\n",
    "    count=0\n",
    "    i=-1\n",
    "    while True:\n",
    "        changed=False\n",
    "        i+=1\n",
    "        if i==D:\n",
    "            break\n",
    "        index_stack=check_group()\n",
    "        grouped=make_group(index_stack)\n",
    "        pass_col=get_pass_col_list(grouped)\n",
    "        if False not in pass_col:\n",
    "            return 0\n",
    "        pre_pass_col=pass_col\n",
    "        possible_change_to=get_possible_list(grouped)\n",
    "        for k in range(len(possible_change_to[i])):\n",
    "            temp=matrix[i]\n",
    "            matrix[i]=[possible_change_to[i][k]]*W\n",
    "            if temp==matrix[i]:\n",
    "                continue\n",
    "            index_stack=check_group()\n",
    "            grouped=make_group(index_stack)\n",
    "            pass_col=get_pass_col_list(grouped)\n",
    "            if change_or_not(pre_pass_col, pass_col):\n",
    "                count+=1\n",
    "                changed=True\n",
    "                print(i, matrix)\n",
    "                if False not in pass_col:\n",
    "                    return count\n",
    "                break\n",
    "            else:\n",
    "                matrix[i]=temp\n",
    "        if changed:\n",
    "            changed=False\n",
    "            i=-1\n",
    "    return count"
   ]
  },
  {
   "cell_type": "code",
   "execution_count": null,
   "metadata": {},
   "outputs": [],
   "source": [
    "T=int(input())\n",
    "for t in range(1, T+1):\n",
    "    D, W, K=map(int, input().split())\n",
    "    matrix=[]\n",
    "    for _ in range(D):\n",
    "        matrix.append(list(map(int, input().split())))\n",
    "    print(\"#\", t, sol())"
   ]
  }
 ],
 "metadata": {
  "kernelspec": {
   "display_name": "Python 3",
   "language": "python",
   "name": "python3"
  },
  "language_info": {
   "codemirror_mode": {
    "name": "ipython",
    "version": 3
   },
   "file_extension": ".py",
   "mimetype": "text/x-python",
   "name": "python",
   "nbconvert_exporter": "python",
   "pygments_lexer": "ipython3",
   "version": "3.7.6"
  }
 },
 "nbformat": 4,
 "nbformat_minor": 4
}
