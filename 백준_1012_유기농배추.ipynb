{
 "cells": [
  {
   "cell_type": "code",
   "execution_count": null,
   "metadata": {},
   "outputs": [],
   "source": [
    "'''\n",
    "\n",
    "단지번호 붙이기와 유사한 BFS/DFS 문제\n",
    "\n",
    "'''"
   ]
  },
  {
   "cell_type": "code",
   "execution_count": 1,
   "metadata": {},
   "outputs": [
    {
     "name": "stdout",
     "output_type": "stream",
     "text": [
      "2\n",
      "10 8 17\n",
      "0 0\n",
      "1 0\n",
      "1 1\n",
      "4 2\n",
      "4 3\n",
      "4 5\n",
      "2 4\n",
      "3 4\n",
      "7 4\n",
      "8 4\n",
      "9 4\n",
      "7 5\n",
      "8 5\n",
      "9 5\n",
      "7 6\n",
      "8 6\n",
      "9 6\n",
      "5\n",
      "10 10 1\n",
      "5 5\n",
      "1\n"
     ]
    }
   ],
   "source": [
    "from collections import deque\n",
    "\n",
    "dx=[1, -1, 0, 0]\n",
    "dy=[0, 0, 1, -1]\n",
    "\n",
    "def BFS(matrix, visited, start):\n",
    "    queue=deque([start])\n",
    "    while queue:\n",
    "        x, y=queue.popleft()\n",
    "        for n in range(4):\n",
    "            nx, ny=x+dx[n], y+dy[n]\n",
    "            if 0<=nx and nx<N and 0<=ny and ny<M:\n",
    "                if matrix[nx][ny]==1:\n",
    "                    if visited[nx][ny]==False:\n",
    "                        visited[nx][ny]=True\n",
    "                        queue.append((nx, ny))\n",
    "    return visited\n",
    "\n",
    "T=int(input())\n",
    "for _ in range(T):\n",
    "    M, N, K=list(map(int, input().split(' ')))\n",
    "    matrix=[[0]*M for _ in range(N)]\n",
    "    visited=[[False]*M for _ in range(N)]\n",
    "    for _ in range(K):\n",
    "        x, y=list(map(int, input().split(' ')))\n",
    "        matrix[y][x]=1\n",
    "    answer=0\n",
    "    for i in range(N):\n",
    "        for j in range(M):\n",
    "            if matrix[i][j]==1 and visited[i][j]==False:\n",
    "                start=(i, j)\n",
    "                visited[i][j]=True\n",
    "                visited=BFS(matrix,visited, start)\n",
    "                answer+=1\n",
    "    print(answer)"
   ]
  },
  {
   "cell_type": "code",
   "execution_count": null,
   "metadata": {},
   "outputs": [],
   "source": []
  }
 ],
 "metadata": {
  "kernelspec": {
   "display_name": "Python 3",
   "language": "python",
   "name": "python3"
  },
  "language_info": {
   "codemirror_mode": {
    "name": "ipython",
    "version": 3
   },
   "file_extension": ".py",
   "mimetype": "text/x-python",
   "name": "python",
   "nbconvert_exporter": "python",
   "pygments_lexer": "ipython3",
   "version": "3.7.6"
  }
 },
 "nbformat": 4,
 "nbformat_minor": 4
}
