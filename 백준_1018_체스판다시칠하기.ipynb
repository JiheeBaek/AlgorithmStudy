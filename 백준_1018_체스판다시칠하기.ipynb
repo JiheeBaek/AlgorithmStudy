{
 "cells": [
  {
   "cell_type": "code",
   "execution_count": null,
   "metadata": {},
   "outputs": [],
   "source": [
    "'''\n",
    "\n",
    "1. 흰색으로 시작하는 경우와 검정색으로 시작하는 경우로 나누어서 각각 어느 위치의 칸이 바뀌는지\n",
    "changed 2차원 배열에 표시.\n",
    "\n",
    "2. 8*8 크기의 정사각형을 잘라내듯이 row index=0~N-8, column index=0~M-8 까지 시작점을 달리하여\n",
    "몇개의 칸이 바뀌었는지 확인.\n",
    "\n",
    "3. min()함수를 사용하여 가장 적게 바뀌는 경우의 개수 return \n",
    "\n",
    "'''"
   ]
  },
  {
   "cell_type": "code",
   "execution_count": null,
   "metadata": {},
   "outputs": [],
   "source": [
    "from collections import Counter \n",
    "\n",
    "N, M=list(map(int, input().split(' ')))\n",
    "board=[]\n",
    "for _ in range(N):\n",
    "    board.append(input())\n",
    "    \n",
    "def start_white(board): #첫번째 칸이 흰색으로 시작하는 경우\n",
    "    changed=[[0]*M for _ in range(N)]\n",
    "    for i in range(N):\n",
    "        for j in range(M): #index는 0부터 시작!!!! 0도 짝수\n",
    "            if (i%2==0 and j%2==0) or (i%2==1 and j%2==1): #(짝수 row, 짝수 column) or (홀수 row, 홀수 column) => 흰색, \"W\" \n",
    "                if board[i][j]!=\"W\": #흰색이 아닌 경우\n",
    "                    changed[i][j]=1 #changed에 1로 표시\n",
    "            elif (i%2==0 and j%2==1) or (i%2==1 and j%2==0): #(짝수 row, 홀수 column) or (홀수 row, 짝수 column) => 검정색, \"B\"\n",
    "                if board[i][j]!=\"B\":\n",
    "                    changed[i][j]=1 #changed에 1로 표시\n",
    "    return changed\n",
    "\n",
    "def start_black(board): #첫번째 칸이 검정색으로 시작하는 경우\n",
    "    changed=[[0]*M for _ in range(N)]\n",
    "    for i in range(N):\n",
    "        for j in range(M): #index는 0부터 시작!!!! 0도 짝수\n",
    "            if (i%2==0 and j%2==0) or (i%2==1 and j%2==1): #(짝수 row, 짝수 column) or (홀수 row, 홀수 column) => 검정색, \"B\" \n",
    "                if board[i][j]!=\"B\": #검정색이 아닌 경우\n",
    "                    changed[i][j]=1 #changed에 1로 표시\n",
    "            elif (i%2==0 and j%2==1) or (i%2==1 and j%2==0): #(짝수 row, 홀수 column) or (홀수 row, 짝수 column) => 흰색, \"W\"\n",
    "                if board[i][j]!=\"W\": #흰색이 아닌 경우\n",
    "                    changed[i][j]=1 #changed에 1로 표시\n",
    "    return changed\n",
    "\n",
    "def count(x, y, matrix): #몇개의 칸이 바뀌었는지 개수 세는 함수\n",
    "    num=0\n",
    "    for i in range(x, x+8): # 시작점 x, y부터 8x8 개의 칸 확인\n",
    "        for j in range(y, y+8):\n",
    "            if matrix[i][j]==1:\n",
    "                num+=1\n",
    "    return num\n",
    "\n",
    "changed_white=start_white(board)\n",
    "changed_black=start_black(board)\n",
    "\n",
    "res=[]\n",
    "for i in range(N-8+1):\n",
    "    for j in range(M-8+1):\n",
    "        num_white=count(i, j, changed_white)\n",
    "        num_black=count(i, j, changed_black)\n",
    "        res.append(min(num_white, num_black)) #흰색/검정색으로 시작하는 경우 중 적은 칸이 바뀌는 경우 선택\n",
    "print(min(res))"
   ]
  }
 ],
 "metadata": {
  "kernelspec": {
   "display_name": "Python 3",
   "language": "python",
   "name": "python3"
  },
  "language_info": {
   "codemirror_mode": {
    "name": "ipython",
    "version": 3
   },
   "file_extension": ".py",
   "mimetype": "text/x-python",
   "name": "python",
   "nbconvert_exporter": "python",
   "pygments_lexer": "ipython3",
   "version": "3.7.6"
  }
 },
 "nbformat": 4,
 "nbformat_minor": 4
}
