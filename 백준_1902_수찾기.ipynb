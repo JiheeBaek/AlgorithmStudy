{
 "cells": [
  {
   "cell_type": "code",
   "execution_count": null,
   "metadata": {},
   "outputs": [],
   "source": [
    "len_array=int(input())\n",
    "array=list(map(int, input().split(' ')))\n",
    "num_target=int(input())\n",
    "targets=list(map(int, input().split(' ')))\n",
    "array=sorted(array)\n",
    "\n",
    "def BinarySearch(left, right, target): #이분탐색 함수\n",
    "    while left<=right:    # left>right가 될 때까지 반복\n",
    "        mid=(left+right)//2    #mid는 left부터 right까지 array의 가운데 인덱스 값\n",
    "        if array[mid]==target:    #array의 가운데 값이 target 값과 같다면\n",
    "            print(\"1\")    #array안에 존재하기때문에 1을 출력하고\n",
    "            return     #함수를 끝낸다.\n",
    "        elif array[mid]<target:    #array의 가운데 값이 target 값보다 작다면\n",
    "            left=mid+1    #target값이 mid 기준, 오른쪽에 위치한다는 의미\n",
    "        else:    #array의 가운데 값이 target 값보다 크다면\n",
    "            right=mid-1    #target값이 mid기준, 왼쪽에 위치한다는 의미\n",
    "    print(\"0\")    #left>right가 될 때까지 return하지 못한 경우, array에 값이 없음\n",
    "    return \n",
    "            \n",
    "for i in range(num_target): #target을 하나씩 array에서 탐색\n",
    "    target=targets[i]\n",
    "    left, right=0, len_array-1\n",
    "    BinarySearch(left, right, target)"
   ]
  }
 ],
 "metadata": {
  "kernelspec": {
   "display_name": "Python 3",
   "language": "python",
   "name": "python3"
  },
  "language_info": {
   "codemirror_mode": {
    "name": "ipython",
    "version": 3
   },
   "file_extension": ".py",
   "mimetype": "text/x-python",
   "name": "python",
   "nbconvert_exporter": "python",
   "pygments_lexer": "ipython3",
   "version": "3.7.6"
  }
 },
 "nbformat": 4,
 "nbformat_minor": 4
}
