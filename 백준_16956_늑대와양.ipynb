{
 "cells": [
  {
   "cell_type": "code",
   "execution_count": null,
   "metadata": {},
   "outputs": [],
   "source": [
    "from collections import deque\n",
    "\n",
    "R, C=list(map(int, input().split(' ')))\n",
    "matrix=['.'*C for _ in range(R)]\n",
    "for i in range(R):\n",
    "    matrix[i]=input()\n",
    "    matrix[i]=matrix[i].replace('.', 'D') \n",
    "    #울타리 최소 개수가 아니므로 모두 울타리로 바꾸기\n",
    "    \n",
    "queue=deque([])\n",
    "dx=[0, 0, 1, -1]\n",
    "dy=[1, -1, 0, 0]\n",
    "def sol():\n",
    "    for i in range(R):\n",
    "        for j in range(C):\n",
    "            if matrix[i][j]=='W': # 늑대의 상하좌우에 양이 있는 경우\n",
    "                for d in range(4):\n",
    "                    nx, ny=i+dx[d], j+dy[d]\n",
    "                    if nx>=0 and nx<R and ny>=0 and ny<C:\n",
    "                        if matrix[nx][ny]=='S':\n",
    "                            print(0) #울타리를 쳐도 늑대가 양에 접근 가능\n",
    "                            return\n",
    "\n",
    "    print(1)\n",
    "    print('\\n'.join(matrix))\n",
    "    return \n",
    "\n",
    "sol()"
   ]
  }
 ],
 "metadata": {
  "kernelspec": {
   "display_name": "Python 3",
   "language": "python",
   "name": "python3"
  },
  "language_info": {
   "codemirror_mode": {
    "name": "ipython",
    "version": 3
   },
   "file_extension": ".py",
   "mimetype": "text/x-python",
   "name": "python",
   "nbconvert_exporter": "python",
   "pygments_lexer": "ipython3",
   "version": "3.7.6"
  }
 },
 "nbformat": 4,
 "nbformat_minor": 4
}
