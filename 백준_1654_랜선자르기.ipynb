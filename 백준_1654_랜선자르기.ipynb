{
 "cells": [
  {
   "cell_type": "code",
   "execution_count": null,
   "metadata": {},
   "outputs": [],
   "source": [
    "'''\n",
    "\n",
    "예제 입력\n",
    "4 11\n",
    "802\n",
    "743\n",
    "457\n",
    "539\n",
    "\n",
    "1부터 802까지 길이 중 N개를 만족시키는 최대 길이를 찾아야 한다.\n",
    "\n",
    "                    |\n",
    "1 2 3 4 5 ~ 199 200 | 201 ~ 800 801 802\n",
    "o o o o o ~  o   o  |  x  ~  x   x   x\n",
    "                    |\n",
    "\n",
    "경계선을 찾는다고 생각하고 풀기\n",
    "\n",
    "'''"
   ]
  },
  {
   "cell_type": "code",
   "execution_count": null,
   "metadata": {},
   "outputs": [],
   "source": [
    "K, N=list(map(int, input().split(' ')))\n",
    "array=[]\n",
    "for _ in range(K):\n",
    "    array.append(int(input()))\n",
    "\n",
    "left, right=1, max(array) #1이상 정수이기 때문에 left를 1로 설정\n",
    "    \n",
    "while left<=right: #left>right가 될때까지\n",
    "    count=0\n",
    "    mid=(left+right)//2 \n",
    "    for i in range(K): \n",
    "        count+=array[i]//mid #mid길이의 랜선으로 자를 때, 몇개의 랜선이 나오는지 계산\n",
    "    if count>=N:\n",
    "        left=mid+1\n",
    "    else:\n",
    "        right=mid-1\n",
    "print(right)"
   ]
  }
 ],
 "metadata": {
  "kernelspec": {
   "display_name": "Python 3",
   "language": "python",
   "name": "python3"
  },
  "language_info": {
   "codemirror_mode": {
    "name": "ipython",
    "version": 3
   },
   "file_extension": ".py",
   "mimetype": "text/x-python",
   "name": "python",
   "nbconvert_exporter": "python",
   "pygments_lexer": "ipython3",
   "version": "3.7.6"
  }
 },
 "nbformat": 4,
 "nbformat_minor": 4
}
