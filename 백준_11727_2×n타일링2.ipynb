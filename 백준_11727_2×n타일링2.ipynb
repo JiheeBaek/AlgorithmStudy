{
 "cells": [
  {
   "cell_type": "code",
   "execution_count": null,
   "metadata": {},
   "outputs": [],
   "source": [
    "'''\n",
    "\n",
    "\n",
    "[첫번째 접근]\n",
    "1부터 N까지 1씩 늘리면서, 1과 2의 순열 찾도록.\n",
    "단, 순열에 2가 있으면 2^(2의 개수)\n",
    "\n",
    "예시\n",
    "N=4인 경우, (1, 1, 1, 1),  =>  1개\n",
    "            (1, 1, 2), (1, 2, 1), (2, 1, 1)  =>  2+2+2=6개\n",
    "            (2, 2)  =>  2^2=4개\n",
    "            -----------------------------------------------\n",
    "            총 11개\n",
    "\n",
    "*코드로 어떻게 작성해야할지 모르겠어서 패스\n",
    "\n",
    "\n",
    "[두번째 접근]\n",
    "점화식\n",
    "a1=1, a2=3, a3=5, a4=11 ...\n",
    "n>=3 일 때, an=a(n-1)+2*a(n-2)\n",
    "\n",
    "\n",
    "'''"
   ]
  },
  {
   "cell_type": "code",
   "execution_count": 2,
   "metadata": {},
   "outputs": [
    {
     "name": "stdout",
     "output_type": "stream",
     "text": [
      "12\n",
      "2731\n"
     ]
    }
   ],
   "source": [
    "def solve(n):\n",
    "    dp=[0]*(n+1)\n",
    "    dp[1]=1\n",
    "    dp[2]=3\n",
    "    for i in range(3, n+1):\n",
    "        dp[i]=dp[i-1]+2*dp[i-2]\n",
    "    return dp[n]%10007\n",
    "\n",
    "N=int(input())\n",
    "print(solve(N))"
   ]
  },
  {
   "cell_type": "code",
   "execution_count": null,
   "metadata": {},
   "outputs": [],
   "source": []
  }
 ],
 "metadata": {
  "kernelspec": {
   "display_name": "Python 3",
   "language": "python",
   "name": "python3"
  },
  "language_info": {
   "codemirror_mode": {
    "name": "ipython",
    "version": 3
   },
   "file_extension": ".py",
   "mimetype": "text/x-python",
   "name": "python",
   "nbconvert_exporter": "python",
   "pygments_lexer": "ipython3",
   "version": "3.7.6"
  }
 },
 "nbformat": 4,
 "nbformat_minor": 4
}
