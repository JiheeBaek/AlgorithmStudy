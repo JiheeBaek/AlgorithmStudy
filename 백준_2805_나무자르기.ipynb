{
 "cells": [
  {
   "cell_type": "code",
   "execution_count": null,
   "metadata": {},
   "outputs": [],
   "source": [
    "'''\n",
    "\n",
    "while문을 빠져나간다는 것은 left, mid, rigt의 값이 if문을 지나기 전에 같거나 연속된 값이라는 의미. \n",
    "\n",
    "예제 입력\n",
    "4 7\n",
    "20 15 10 17\n",
    "\n",
    "left   mid   right         if 문을 지나면서            left    mid   right\n",
    "16     16     17                  =>                    16     16     15    \n",
    "\n",
    "get>M과 get<M인 경계선을 찾는 것이 목표이기 때문에 right가 left보다 작아질 때의 right가 답이 된다.\n",
    "\n",
    "'''"
   ]
  },
  {
   "cell_type": "code",
   "execution_count": null,
   "metadata": {},
   "outputs": [],
   "source": [
    "N, M=list(map(int, input().split(' ')))\n",
    "tree_list=list(map(int, input().split(' ')))\n",
    "\n",
    "left, right=0, max(tree_list)\n",
    "while left<=right: \n",
    "    mid=(left+right)//2\n",
    "    get=0\n",
    "    for tree in tree_list:\n",
    "        if tree>mid:\n",
    "            get+=tree-mid\n",
    "    if get>=M:\n",
    "        left=mid+1\n",
    "    else:\n",
    "        right=mid-1\n",
    "        \n",
    "print(right)"
   ]
  }
 ],
 "metadata": {
  "kernelspec": {
   "display_name": "Python 3",
   "language": "python",
   "name": "python3"
  },
  "language_info": {
   "codemirror_mode": {
    "name": "ipython",
    "version": 3
   },
   "file_extension": ".py",
   "mimetype": "text/x-python",
   "name": "python",
   "nbconvert_exporter": "python",
   "pygments_lexer": "ipython3",
   "version": "3.7.6"
  }
 },
 "nbformat": 4,
 "nbformat_minor": 4
}
