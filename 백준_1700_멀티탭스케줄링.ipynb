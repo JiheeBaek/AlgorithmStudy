{
 "cells": [
  {
   "cell_type": "code",
   "execution_count": null,
   "metadata": {},
   "outputs": [],
   "source": [
    "'''\n",
    "제일 나중에 사용하는 전기용품의 플러그 빼기\n",
    "\n",
    "'''"
   ]
  },
  {
   "cell_type": "code",
   "execution_count": null,
   "metadata": {},
   "outputs": [],
   "source": [
    "from collections import deque\n",
    "import sys\n",
    "\n",
    "N, K=list(map(int, input().split(' ')))\n",
    "using_product=deque(list(map(int, input().split(' '))))\n",
    "\n",
    "if N>=K: #전기용품 사용 개수 보다 멀티탭의 구멍이 더 많으면 플러그를 뺄 필요가 없다\n",
    "    print(0)\n",
    "    sys.exit()\n",
    "\n",
    "multitap=[]\n",
    "when_use=[0 for _ in range(N)]\n",
    "cnt=0\n",
    "\n",
    "while using_product:\n",
    "    product=using_product.popleft()\n",
    "    if product in multitap: #사용하려는 전기용품이 이미 멀티탭에 꽂아진 경우\n",
    "        continue\n",
    "    if len(multitap)==N: #사용하려는 전기용품을 멀티탭에 꽂아야 하고, 멀티탭 구멍이 남아있지 않은 경우\n",
    "        for i in range(N):\n",
    "            if multitap[i] in using_product:\n",
    "                when_use[i]=using_product.index(multitap[i])\n",
    "            else:\n",
    "                when_use[i]=100\n",
    "        del multitap[when_use.index(max(when_use))] #제일 나중에 사용하는 전기용품의 플러그 빼기\n",
    "        cnt+=1\n",
    "    multitap.append(product) #사용하려는 전기용품을 멀티탭에 꽂아야 하고, 멀티탭 구멍이 남아있는 경우\n",
    "print(cnt)"
   ]
  }
 ],
 "metadata": {
  "kernelspec": {
   "display_name": "Python 3",
   "language": "python",
   "name": "python3"
  },
  "language_info": {
   "codemirror_mode": {
    "name": "ipython",
    "version": 3
   },
   "file_extension": ".py",
   "mimetype": "text/x-python",
   "name": "python",
   "nbconvert_exporter": "python",
   "pygments_lexer": "ipython3",
   "version": "3.7.6"
  }
 },
 "nbformat": 4,
 "nbformat_minor": 4
}
