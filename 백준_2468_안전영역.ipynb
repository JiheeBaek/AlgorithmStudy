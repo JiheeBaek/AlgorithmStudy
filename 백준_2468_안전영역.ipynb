{
 "cells": [
  {
   "cell_type": "code",
   "execution_count": null,
   "metadata": {},
   "outputs": [],
   "source": [
    "from collections import deque\n",
    "from copy import deepcopy\n",
    "\n",
    "N=int(input())\n",
    "matrix=[]\n",
    "dx=[0, 0, 1, -1]\n",
    "dy=[1, -1, 0, 0]\n",
    "rain=0\n",
    "result=[]\n",
    "for i in range(N): # 높이가 최대인 지역만큼 비가 오면 안전 구역 = 0\n",
    "    matrix.append(list(map(int, input().split(' '))))\n",
    "    temp=max(matrix[i])\n",
    "    if temp>rain:\n",
    "        rain=temp\n",
    "        \n",
    "def BFS(i, j):\n",
    "    visited[i][j]=True\n",
    "    queue=deque([(i, j)])\n",
    "    while queue:\n",
    "        x, y=queue.popleft()\n",
    "        for d in range(4):\n",
    "            nx, ny=x+dx[d], y+dy[d]\n",
    "            if nx>=0 and nx<N and ny>=0 and ny<N:\n",
    "                if temp_matrix[nx][ny]==1 and not visited[nx][ny]:\n",
    "                    queue.append((nx, ny))\n",
    "                    visited[nx][ny]=True\n",
    "    return\n",
    "\n",
    "\n",
    "for r in range(rain+1): # 지역 높이가 모두 0일 때를 고려하여 rain까지 loop\n",
    "    temp_matrix=deepcopy(matrix)\n",
    "    count=0\n",
    "    visited=[[False]*N for _ in range(N)]\n",
    "    for i in range(N):\n",
    "        for j in range(N):\n",
    "            if temp_matrix[i][j]<r:\n",
    "                temp_matrix[i][j]=0 # 물에 잠기는 지역 : 0\n",
    "            else:\n",
    "                temp_matrix[i][j]=1 # 물에 잠기지 않는 지역 : 1\n",
    "            \n",
    "    for i in range(N):\n",
    "        for j in range(N):\n",
    "            if temp_matrix[i][j]==1 and visited[i][j]==False:\n",
    "                count+=1\n",
    "                BFS(i, j)\n",
    "    result.append(count)\n",
    "\n",
    "print(max(result))"
   ]
  }
 ],
 "metadata": {
  "kernelspec": {
   "display_name": "Python 3",
   "language": "python",
   "name": "python3"
  },
  "language_info": {
   "codemirror_mode": {
    "name": "ipython",
    "version": 3
   },
   "file_extension": ".py",
   "mimetype": "text/x-python",
   "name": "python",
   "nbconvert_exporter": "python",
   "pygments_lexer": "ipython3",
   "version": "3.7.6"
  }
 },
 "nbformat": 4,
 "nbformat_minor": 4
}
